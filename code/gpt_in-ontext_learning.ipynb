{
 "cells": [
  {
   "cell_type": "code",
   "execution_count": 13,
   "id": "d62854d8",
   "metadata": {},
   "outputs": [],
   "source": [
    "import os\n",
    "os.environ[\"OPENAI_API_KEY\"]='<Your Key>'"
   ]
  },
  {
   "cell_type": "markdown",
   "id": "8b9910a8",
   "metadata": {},
   "source": [
    "# Zero-shot Learning"
   ]
  },
  {
   "cell_type": "markdown",
   "id": "92d57ae9",
   "metadata": {},
   "source": [
    "## 意图识别"
   ]
  },
  {
   "cell_type": "code",
   "execution_count": 3,
   "id": "3247be3e",
   "metadata": {},
   "outputs": [],
   "source": [
    "from openai import OpenAI\n",
    "def recognize_intent(input):\n",
    "\n",
    "    client = OpenAI(\n",
    "        api_key=os.getenv(\"DEEPSEEK_API_KEY\"),\n",
    "        base_url=\"https://api.deepseek.com\")\n",
    "    \n",
    "    response = client.chat.completions.create(\n",
    "        model=\"deepseek-chat\",\n",
    "        temperature = 0,\n",
    "        messages=[\n",
    "            {\"role\": \"system\", \"content\": \"\"\"\n",
    "              Recognize the intent from the user's input and format output as JSON string. \n",
    "            The output JSON string includes: \"intention\", \"paramters\" \"\"\"},\n",
    "            {\"role\": \"user\", \"content\": input}\n",
    "        ]\n",
    "      )\n",
    "    return response.choices[0].message.content"
   ]
  },
  {
   "cell_type": "code",
   "execution_count": 4,
   "id": "f3d8f7d0",
   "metadata": {},
   "outputs": [
    {
     "name": "stdout",
     "output_type": "stream",
     "text": [
      "```json\n",
      "{\n",
      "  \"intention\": \"book_flight\",\n",
      "  \"parameters\": {\n",
      "    \"date\": \"2023-08-19\",\n",
      "    \"departure_city\": \"北京\",\n",
      "    \"destination_city\": \"上海\"\n",
      "  }\n",
      "}\n",
      "```\n"
     ]
    }
   ],
   "source": [
    "print(recognize_intent(\"订8月19日北京到上海的飞机\"))"
   ]
  },
  {
   "cell_type": "markdown",
   "id": "3c44bb89",
   "metadata": {},
   "source": [
    "## 情感分类"
   ]
  },
  {
   "cell_type": "code",
   "execution_count": 5,
   "id": "8308e5c4",
   "metadata": {},
   "outputs": [],
   "source": [
    "import openai\n",
    "\n",
    "def classify_sentiment(input):\n",
    "    client = OpenAI(\n",
    "        api_key=os.getenv(\"DEEPSEEK_API_KEY\"),\n",
    "        base_url=\"https://api.deepseek.com\")\n",
    "    \n",
    "    response = client.chat.completions.create(\n",
    "        model=\"deepseek-chat\",\n",
    "        messages=[\n",
    "            {\"role\": \"system\", \"content\": \"\"\"\n",
    "             根据给定文字所表达的情感，将文字分为三类：正面 ,中立， 负面。请将用户给定的文字进行分类，并输出分类。\n",
    "             \"\"\"},   \n",
    "            {\"role\": \"user\", \"content\": input}\n",
    "        ],\n",
    "        temperature = 0.9, \n",
    "        max_tokens = 200\n",
    "      )\n",
    "    return response.choices[0].message.content"
   ]
  },
  {
   "cell_type": "code",
   "execution_count": 6,
   "id": "e7d934fa",
   "metadata": {},
   "outputs": [
    {
     "data": {
      "text/plain": [
       "'正面\\n\\n这段文字表达了用户对大模型的认识有所提高，显示出积极的学习态度和收获感，因此归类为正面情感。'"
      ]
     },
     "execution_count": 6,
     "metadata": {},
     "output_type": "execute_result"
    }
   ],
   "source": [
    "classify_sentiment(\"通过前面的课程我对大模型的认识提高了很多。\")"
   ]
  },
  {
   "cell_type": "code",
   "execution_count": 7,
   "id": "2f05ebe0",
   "metadata": {},
   "outputs": [
    {
     "data": {
      "text/plain": [
       "'中立\\n\\n这段文字只是陈述了一个日期，没有表达出明显的情感倾向，因此属于中立类别。'"
      ]
     },
     "execution_count": 7,
     "metadata": {},
     "output_type": "execute_result"
    }
   ],
   "source": [
    "classify_sentiment(\"今天是2023年8月16日\")"
   ]
  },
  {
   "cell_type": "code",
   "execution_count": 8,
   "id": "264180ac",
   "metadata": {},
   "outputs": [
    {
     "data": {
      "text/plain": [
       "'负面'"
      ]
     },
     "execution_count": 8,
     "metadata": {},
     "output_type": "execute_result"
    }
   ],
   "source": [
    "classify_sentiment(\"最近感觉很累。\")"
   ]
  },
  {
   "cell_type": "markdown",
   "id": "ec586f63",
   "metadata": {},
   "source": [
    "# Few-shot Learning"
   ]
  },
  {
   "cell_type": "code",
   "execution_count": 9,
   "id": "0d1c7894",
   "metadata": {},
   "outputs": [],
   "source": [
    "import openai\n",
    "def book_flight(input):\n",
    "    client = OpenAI(\n",
    "        api_key=os.getenv(\"DEEPSEEK_API_KEY\"),\n",
    "        base_url=\"https://api.deepseek.com\")\n",
    "    \n",
    "    response = client.chat.completions.create(\n",
    "        model=\"deepseek-chat\",\n",
    "        temperature = 0,\n",
    "        messages=[\n",
    "            {\"role\": \"system\", \"content\": \"\"\"\n",
    "              通过用户描述，提取航班预订信息并以JSON格式输出. \n",
    "              以下是一些示例：\n",
    "              示例1\n",
    "              输入: \"订8月9日上海到北京的航班，上午出发\"\n",
    "              输出:\"{\"date\":\"0809\",\"dispatch_time\":\"6-12\",\"from\":\"shanghai\",\"to\":\"beijing\"}\"\n",
    "              \n",
    "              示例2\n",
    "              输入: \"订8月9日上海到北京的航班，下午出发\"\n",
    "              输出:\"{\"date\":\"0809\",\"dispatch_time\":\"12-18\",\"from\":\"shanghai\",\"to\":\"beijing\"}\"\n",
    "              \n",
    "              示例3\n",
    "              输入: \"订8月9日上海到北京的航班，晚上出发\"\n",
    "              输出:\"{\"date\":\"0809\",\"dispatch_time\":\"18-24\",\"from\":\"shanghai\",\"to\":\"beijing\"}\"\n",
    "              \n",
    "              示例4\n",
    "              输入: \"订8月9日上海到北京的航班\"\n",
    "              输出:\"{\"date\":\"0809\",\"dispatch_time\":\"unknown\",\"from\":\"shanghai\",\"to\":\"beijing\"}\"\n",
    "              \"\"\"},\n",
    "            {\"role\": \"user\", \"content\": input}\n",
    "        ]\n",
    "      )\n",
    "    return response.choices[0].message.content"
   ]
  },
  {
   "cell_type": "code",
   "execution_count": 10,
   "id": "35994fe6",
   "metadata": {},
   "outputs": [
    {
     "data": {
      "text/plain": [
       "'输出: `{\"date\":\"0903\",\"dispatch_time\":\"unknown\",\"from\":\"beijing\",\"to\":\"guangzhou\"}`'"
      ]
     },
     "execution_count": 10,
     "metadata": {},
     "output_type": "execute_result"
    }
   ],
   "source": [
    "book_flight(\"预订9月3日北京到广州的航班\")"
   ]
  },
  {
   "cell_type": "code",
   "execution_count": 11,
   "id": "2b533386",
   "metadata": {},
   "outputs": [
    {
     "data": {
      "text/plain": [
       "'```json\\n{\"date\":\"unknown\",\"dispatch_time\":\"unknown\",\"from\":\"beijing\",\"to\":\"guangzhou\"}\\n```'"
      ]
     },
     "execution_count": 11,
     "metadata": {},
     "output_type": "execute_result"
    }
   ],
   "source": [
    "book_flight(\"预订北京到广州的航班\")"
   ]
  },
  {
   "cell_type": "code",
   "execution_count": 12,
   "id": "b5a55119",
   "metadata": {},
   "outputs": [
    {
     "data": {
      "text/plain": [
       "'输出: `{\"date\":\"0903\",\"dispatch_time\":\"18-24\",\"from\":\"unknown\",\"to\":\"guangzhou\"}`'"
      ]
     },
     "execution_count": 12,
     "metadata": {},
     "output_type": "execute_result"
    }
   ],
   "source": [
    "book_flight(\"预订9月3日夜里出发到广州的航班\")"
   ]
  },
  {
   "cell_type": "markdown",
   "id": "287c6bc8-b2c2-439b-b4cc-7d1173b63cef",
   "metadata": {},
   "source": [
    "# 练习"
   ]
  },
  {
   "cell_type": "code",
   "execution_count": 14,
   "id": "88b24224-7f5e-4454-92f3-6c7d089116ed",
   "metadata": {},
   "outputs": [
    {
     "name": "stdout",
     "output_type": "stream",
     "text": [
      "A\n",
      "E, B, C, D\n"
     ]
    }
   ],
   "source": [
    "import openai\n",
    "def convert(input):\n",
    "    prompt = \"\"\"\n",
    "    按以下规则将0-100的数值，转化为A,B,C,D,E 5个等级:\n",
    "    [80,100]之间 为 A\n",
    "    [60,79]之间 为 B\n",
    "    [40,59]之间 为 C\n",
    "    [20,39]之间 为 D\n",
    "    [0,19]之间 为 E\n",
    "    仅输出数值对应的等级\n",
    "    \"\"\"\n",
    "\n",
    "    client = OpenAI(\n",
    "        api_key=os.getenv(\"DEEPSEEK_API_KEY\"),\n",
    "        base_url=\"https://api.deepseek.com\")\n",
    "    \n",
    "    response = client.chat.completions.create(\n",
    "        model=\"deepseek-chat\",\n",
    "        temperature = 0,\n",
    "        messages=[\n",
    "            {\"role\":\"system\",\"content\":prompt},\n",
    "            {\"role\": \"user\", \"content\": input}\n",
    "        ]\n",
    "      )\n",
    "    return (response.choices[0].message.content)\n",
    "\n",
    "print(convert(\"100\"))\n",
    "\n",
    "print(convert(\"15,70,50,23\"))"
   ]
  },
  {
   "cell_type": "code",
   "execution_count": null,
   "id": "3447f92a-48e1-427c-8603-6e2ec109d5c9",
   "metadata": {},
   "outputs": [],
   "source": []
  }
 ],
 "metadata": {
  "kernelspec": {
   "display_name": "Python 3 (ipykernel)",
   "language": "python",
   "name": "python3"
  },
  "language_info": {
   "codemirror_mode": {
    "name": "ipython",
    "version": 3
   },
   "file_extension": ".py",
   "mimetype": "text/x-python",
   "name": "python",
   "nbconvert_exporter": "python",
   "pygments_lexer": "ipython3",
   "version": "3.13.0"
  }
 },
 "nbformat": 4,
 "nbformat_minor": 5
}
