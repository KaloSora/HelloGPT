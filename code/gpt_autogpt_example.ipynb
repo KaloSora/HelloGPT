{
 "cells": [
  {
   "cell_type": "code",
   "execution_count": 1,
   "id": "f6400311",
   "metadata": {},
   "outputs": [],
   "source": [
    "import os\n",
    "\n",
    "os.environ[\"OPENAI_API_KEY\"]='<Your Key>'"
   ]
  },
  {
   "cell_type": "markdown",
   "id": "7833d0c7",
   "metadata": {},
   "source": [
    "# Zero-shot Learning"
   ]
  },
  {
   "cell_type": "code",
   "execution_count": 2,
   "id": "6bad6b9b",
   "metadata": {},
   "outputs": [],
   "source": [
    "from openai import OpenAI\n",
    "tool = \"\"\"\n",
    "1 tool: python_interpreter, description: use it to execute python code\n",
    "2 tool: web_access, description: use it to get realtime info, input is the question or query \n",
    "\"\"\"\n",
    "\n",
    "react_prompt = f\"\"\"\n",
    "Try your best to anwser user's question, and use the following format:\n",
    "\n",
    "Question: the input question you must answer\n",
    "\n",
    "Thought: you should always think about what to do\n",
    "\n",
    "Action: the action to take, should use one of tools in the given tool list:\n",
    "\n",
    "[{tool}]\n",
    "\n",
    "Action Input: the input to the action\n",
    "\n",
    "Here, you should pause the process and return to wait the outside observation. \n",
    "\n",
    "Observation: the result of the action\n",
    "... (this Thought/Action/Action Input/Observation can repeat N times)\n",
    "\n",
    "Thought: I now know the final answer\n",
    "\n",
    "Final Answer: the final answer to the original input question\n",
    "\"\"\"\n",
    "\n",
    "def react_demo(request):\n",
    "    client = OpenAI(\n",
    "        api_key=os.getenv(\"DEEPSEEK_API_KEY\"),\n",
    "        base_url=\"https://api.deepseek.com\")\n",
    "    \n",
    "    response = client.chat.completions.create(\n",
    "        model=\"deepseek-chat\",\n",
    "        temperature = 0,\n",
    "        messages=[\n",
    "            {\"role\": \"system\", \"content\": react_prompt,\n",
    "            },\n",
    "            {\"role\": \"user\", \"content\": request}\n",
    "        ]\n",
    "      )\n",
    "    print(response.choices[0].message.content)"
   ]
  },
  {
   "cell_type": "code",
   "execution_count": 3,
   "id": "f68936ca",
   "metadata": {},
   "outputs": [
    {
     "name": "stdout",
     "output_type": "stream",
     "text": [
      "Question: 今天广州适合穿什么？\n",
      "\n",
      "Thought: 我需要获取今天广州的天气情况，以便给出合适的穿衣建议。\n",
      "\n",
      "Action: web_access\n",
      "\n",
      "Action Input: 今天广州的天气情况\n",
      "None\n"
     ]
    }
   ],
   "source": [
    "print(react_demo(\"今天广州适合穿什么？\"))"
   ]
  },
  {
   "cell_type": "code",
   "execution_count": 5,
   "id": "702d5c62",
   "metadata": {},
   "outputs": [
    {
     "name": "stdout",
     "output_type": "stream",
     "text": [
      "Thought: Based on the current weather conditions in Guangzhou, I can now suggest appropriate clothing.\n",
      "\n",
      "Final Answer: 今天广州的天气是15°C，没有降水，湿度31%，风速4 mph。建议穿长袖衬衫或薄毛衣搭配长裤，如果怕冷可以加一件薄外套。\n",
      "None\n"
     ]
    }
   ],
   "source": [
    "# run the web_access tool to get the Guangzhou's weather today. For example, \n",
    "weather = \"The weather today in Guangzhou is 15°C, with 0% precipitation, 31% humidity, and a wind speed of 4 mph.\"\n",
    "\n",
    "next_prompt = \"\"\"\n",
    "Question: 今天广州适合穿什么？\n",
    "\n",
    "Thought: I need to check the current weather in Guangzhou to give a proper clothing suggestion.\n",
    "\n",
    "Action: web_access\n",
    "\n",
    "Action Input: 今天广州天气如何？\n",
    "\n",
    "Observation: \"\"\" + weather\n",
    "\n",
    "print(react_demo(next_prompt))"
   ]
  },
  {
   "cell_type": "code",
   "execution_count": null,
   "id": "c68f5888",
   "metadata": {},
   "outputs": [],
   "source": []
  }
 ],
 "metadata": {
  "kernelspec": {
   "display_name": "Python 3 (ipykernel)",
   "language": "python",
   "name": "python3"
  },
  "language_info": {
   "codemirror_mode": {
    "name": "ipython",
    "version": 3
   },
   "file_extension": ".py",
   "mimetype": "text/x-python",
   "name": "python",
   "nbconvert_exporter": "python",
   "pygments_lexer": "ipython3",
   "version": "3.13.0"
  }
 },
 "nbformat": 4,
 "nbformat_minor": 5
}
